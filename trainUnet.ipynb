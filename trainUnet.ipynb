{
 "cells": [
  {
   "cell_type": "code",
   "execution_count": 1,
   "metadata": {},
   "outputs": [
    {
     "name": "stderr",
     "output_type": "stream",
     "text": [
      "Using TensorFlow backend.\n"
     ]
    }
   ],
   "source": [
    "from model import *\n",
    "from data import *\n",
    "from glob import glob\n",
    "import math"
   ]
  },
  {
   "cell_type": "markdown",
   "metadata": {},
   "source": [
    "## Train your Unet with membrane data\n",
    "membrane data is in folder membrane/, it is a binary classification task.\n",
    "\n",
    "The input shape of image and mask are the same :(batch_size,rows,cols,channel = 1)"
   ]
  },
  {
   "cell_type": "code",
   "execution_count": 2,
   "metadata": {},
   "outputs": [],
   "source": [
    "imgs = glob('/dmount/Vessel/drawing_anno/Patient/train/image/*.jpg')\n",
    "\n",
    "dataLen = len(imgs)\n",
    "batch = 10\n",
    "epochs = 25\n",
    "steps_per_epoch = math.ceil(dataLen/batch)"
   ]
  },
  {
   "cell_type": "markdown",
   "metadata": {},
   "source": [
    "### Train with data generator"
   ]
  },
  {
   "cell_type": "code",
   "execution_count": 3,
   "metadata": {},
   "outputs": [
    {
     "name": "stdout",
     "output_type": "stream",
     "text": [
      "WARNING:tensorflow:From /usr/local/lib/python3.6/dist-packages/keras/backend/tensorflow_backend.py:74: The name tf.get_default_graph is deprecated. Please use tf.compat.v1.get_default_graph instead.\n",
      "\n",
      "WARNING:tensorflow:From /usr/local/lib/python3.6/dist-packages/keras/backend/tensorflow_backend.py:517: The name tf.placeholder is deprecated. Please use tf.compat.v1.placeholder instead.\n",
      "\n",
      "WARNING:tensorflow:From /usr/local/lib/python3.6/dist-packages/keras/backend/tensorflow_backend.py:4185: The name tf.truncated_normal is deprecated. Please use tf.random.truncated_normal instead.\n",
      "\n",
      "WARNING:tensorflow:From /usr/local/lib/python3.6/dist-packages/keras/backend/tensorflow_backend.py:3976: The name tf.nn.max_pool is deprecated. Please use tf.nn.max_pool2d instead.\n",
      "\n",
      "WARNING:tensorflow:From /usr/local/lib/python3.6/dist-packages/keras/backend/tensorflow_backend.py:133: The name tf.placeholder_with_default is deprecated. Please use tf.compat.v1.placeholder_with_default instead.\n",
      "\n",
      "WARNING:tensorflow:From /usr/local/lib/python3.6/dist-packages/keras/backend/tensorflow_backend.py:3445: calling dropout (from tensorflow.python.ops.nn_ops) with keep_prob is deprecated and will be removed in a future version.\n",
      "Instructions for updating:\n",
      "Please use `rate` instead of `keep_prob`. Rate should be set to `rate = 1 - keep_prob`.\n",
      "WARNING:tensorflow:From /usr/local/lib/python3.6/dist-packages/keras/backend/tensorflow_backend.py:2018: The name tf.image.resize_nearest_neighbor is deprecated. Please use tf.compat.v1.image.resize_nearest_neighbor instead.\n",
      "\n",
      "WARNING:tensorflow:From /usr/local/lib/python3.6/dist-packages/keras/backend/tensorflow_backend.py:4138: The name tf.random_uniform is deprecated. Please use tf.random.uniform instead.\n",
      "\n",
      "WARNING:tensorflow:From /usr/local/lib/python3.6/dist-packages/keras/optimizers.py:790: The name tf.train.Optimizer is deprecated. Please use tf.compat.v1.train.Optimizer instead.\n",
      "\n"
     ]
    },
    {
     "name": "stderr",
     "output_type": "stream",
     "text": [
      "/myGit/unet/model.py:55: UserWarning: Update your `Model` call to the Keras 2 API: `Model(inputs=Tensor(\"in..., outputs=Tensor(\"co...)`\n",
      "  model = Model(input = inputs, output = conv10)\n"
     ]
    }
   ],
   "source": [
    "data_gen_args = dict()\n",
    "myGene = trainGenerator(batch,'/dmount/Vessel/drawing_anno/Patient/train','image','label',data_gen_args,save_to_dir = None)\n",
    "model = unet()\n",
    "model_checkpoint = ModelCheckpoint('unet.h5', monitor='loss',verbose=1, save_best_only=True)"
   ]
  },
  {
   "cell_type": "code",
   "execution_count": 4,
   "metadata": {},
   "outputs": [
    {
     "name": "stdout",
     "output_type": "stream",
     "text": [
      "WARNING:tensorflow:From /usr/local/lib/python3.6/dist-packages/keras/backend/tensorflow_backend.py:986: The name tf.assign_add is deprecated. Please use tf.compat.v1.assign_add instead.\n",
      "\n",
      "WARNING:tensorflow:From /usr/local/lib/python3.6/dist-packages/keras/backend/tensorflow_backend.py:973: The name tf.assign is deprecated. Please use tf.compat.v1.assign instead.\n",
      "\n",
      "WARNING:tensorflow:From /usr/local/lib/python3.6/dist-packages/keras/backend/tensorflow_backend.py:2741: The name tf.Session is deprecated. Please use tf.compat.v1.Session instead.\n",
      "\n",
      "Epoch 1/25\n",
      "Found 549 images belonging to 1 classes.\n",
      "Found 549 images belonging to 1 classes.\n",
      "WARNING:tensorflow:From /usr/local/lib/python3.6/dist-packages/keras/backend/tensorflow_backend.py:174: The name tf.get_default_session is deprecated. Please use tf.compat.v1.get_default_session instead.\n",
      "\n",
      "WARNING:tensorflow:From /usr/local/lib/python3.6/dist-packages/keras/backend/tensorflow_backend.py:181: The name tf.ConfigProto is deprecated. Please use tf.compat.v1.ConfigProto instead.\n",
      "\n",
      "WARNING:tensorflow:From /usr/local/lib/python3.6/dist-packages/keras/backend/tensorflow_backend.py:190: The name tf.global_variables is deprecated. Please use tf.compat.v1.global_variables instead.\n",
      "\n",
      "WARNING:tensorflow:From /usr/local/lib/python3.6/dist-packages/keras/backend/tensorflow_backend.py:199: The name tf.is_variable_initialized is deprecated. Please use tf.compat.v1.is_variable_initialized instead.\n",
      "\n",
      "WARNING:tensorflow:From /usr/local/lib/python3.6/dist-packages/keras/backend/tensorflow_backend.py:206: The name tf.variables_initializer is deprecated. Please use tf.compat.v1.variables_initializer instead.\n",
      "\n",
      "55/55 [==============================] - 23s 425ms/step - loss: 0.2451 - acc: 0.5718\n",
      "\n",
      "Epoch 00001: loss improved from inf to 0.24513, saving model to unet.h5\n",
      "Epoch 2/25\n",
      "55/55 [==============================] - 13s 245ms/step - loss: 0.2124 - acc: 0.6540\n",
      "\n",
      "Epoch 00002: loss improved from 0.24513 to 0.21249, saving model to unet.h5\n",
      "Epoch 3/25\n",
      "55/55 [==============================] - 14s 247ms/step - loss: 0.1330 - acc: 0.8079\n",
      "\n",
      "Epoch 00003: loss improved from 0.21249 to 0.13304, saving model to unet.h5\n",
      "Epoch 4/25\n",
      "55/55 [==============================] - 14s 249ms/step - loss: 0.1073 - acc: 0.8561\n",
      "\n",
      "Epoch 00004: loss improved from 0.13304 to 0.10733, saving model to unet.h5\n",
      "Epoch 5/25\n",
      "55/55 [==============================] - 14s 249ms/step - loss: 0.0975 - acc: 0.8683\n",
      "\n",
      "Epoch 00005: loss improved from 0.10733 to 0.09750, saving model to unet.h5\n",
      "Epoch 6/25\n",
      "55/55 [==============================] - 14s 250ms/step - loss: 0.0910 - acc: 0.8755\n",
      "\n",
      "Epoch 00006: loss improved from 0.09750 to 0.09105, saving model to unet.h5\n",
      "Epoch 7/25\n",
      "55/55 [==============================] - 14s 251ms/step - loss: 0.0870 - acc: 0.8810\n",
      "\n",
      "Epoch 00007: loss improved from 0.09105 to 0.08698, saving model to unet.h5\n",
      "Epoch 8/25\n",
      "55/55 [==============================] - 14s 252ms/step - loss: 0.0838 - acc: 0.8854\n",
      "\n",
      "Epoch 00008: loss improved from 0.08698 to 0.08378, saving model to unet.h5\n",
      "Epoch 9/25\n",
      "55/55 [==============================] - 14s 253ms/step - loss: 0.0822 - acc: 0.8872\n",
      "\n",
      "Epoch 00009: loss improved from 0.08378 to 0.08224, saving model to unet.h5\n",
      "Epoch 10/25\n",
      "55/55 [==============================] - 14s 253ms/step - loss: 0.0804 - acc: 0.8894\n",
      "\n",
      "Epoch 00010: loss improved from 0.08224 to 0.08037, saving model to unet.h5\n",
      "Epoch 11/25\n",
      "55/55 [==============================] - 14s 254ms/step - loss: 0.0788 - acc: 0.8914\n",
      "\n",
      "Epoch 00011: loss improved from 0.08037 to 0.07884, saving model to unet.h5\n",
      "Epoch 12/25\n",
      "55/55 [==============================] - 14s 254ms/step - loss: 0.0774 - acc: 0.8934\n",
      "\n",
      "Epoch 00012: loss improved from 0.07884 to 0.07738, saving model to unet.h5\n",
      "Epoch 13/25\n",
      "55/55 [==============================] - 14s 254ms/step - loss: 0.0765 - acc: 0.8946\n",
      "\n",
      "Epoch 00013: loss improved from 0.07738 to 0.07649, saving model to unet.h5\n",
      "Epoch 14/25\n",
      "55/55 [==============================] - 14s 254ms/step - loss: 0.0754 - acc: 0.8962\n",
      "\n",
      "Epoch 00014: loss improved from 0.07649 to 0.07542, saving model to unet.h5\n",
      "Epoch 15/25\n",
      "55/55 [==============================] - 14s 255ms/step - loss: 0.0739 - acc: 0.8982\n",
      "\n",
      "Epoch 00015: loss improved from 0.07542 to 0.07390, saving model to unet.h5\n",
      "Epoch 16/25\n",
      "55/55 [==============================] - 14s 255ms/step - loss: 0.0734 - acc: 0.8990\n",
      "\n",
      "Epoch 00016: loss improved from 0.07390 to 0.07340, saving model to unet.h5\n",
      "Epoch 17/25\n",
      "55/55 [==============================] - 14s 255ms/step - loss: 0.0723 - acc: 0.9005\n",
      "\n",
      "Epoch 00017: loss improved from 0.07340 to 0.07226, saving model to unet.h5\n",
      "Epoch 18/25\n",
      "55/55 [==============================] - 14s 255ms/step - loss: 0.0711 - acc: 0.9019\n",
      "\n",
      "Epoch 00018: loss improved from 0.07226 to 0.07112, saving model to unet.h5\n",
      "Epoch 19/25\n",
      "55/55 [==============================] - 14s 255ms/step - loss: 0.0703 - acc: 0.9031\n",
      "\n",
      "Epoch 00019: loss improved from 0.07112 to 0.07035, saving model to unet.h5\n",
      "Epoch 20/25\n",
      "55/55 [==============================] - 14s 256ms/step - loss: 0.0691 - acc: 0.9049\n",
      "\n",
      "Epoch 00020: loss improved from 0.07035 to 0.06911, saving model to unet.h5\n",
      "Epoch 21/25\n",
      "55/55 [==============================] - 14s 256ms/step - loss: 0.0683 - acc: 0.9060\n",
      "\n",
      "Epoch 00021: loss improved from 0.06911 to 0.06832, saving model to unet.h5\n",
      "Epoch 22/25\n",
      "55/55 [==============================] - 14s 256ms/step - loss: 0.0676 - acc: 0.9070\n",
      "\n",
      "Epoch 00022: loss improved from 0.06832 to 0.06763, saving model to unet.h5\n",
      "Epoch 23/25\n",
      "55/55 [==============================] - 14s 256ms/step - loss: 0.0670 - acc: 0.9079\n",
      "\n",
      "Epoch 00023: loss improved from 0.06763 to 0.06696, saving model to unet.h5\n",
      "Epoch 24/25\n",
      "55/55 [==============================] - 14s 256ms/step - loss: 0.0661 - acc: 0.9092\n",
      "\n",
      "Epoch 00024: loss improved from 0.06696 to 0.06608, saving model to unet.h5\n",
      "Epoch 25/25\n",
      "55/55 [==============================] - 14s 256ms/step - loss: 0.0654 - acc: 0.9100\n",
      "\n",
      "Epoch 00025: loss improved from 0.06608 to 0.06544, saving model to unet.h5\n"
     ]
    },
    {
     "data": {
      "text/plain": [
       "<keras.callbacks.History at 0x7f289d0c9978>"
      ]
     },
     "execution_count": 4,
     "metadata": {},
     "output_type": "execute_result"
    }
   ],
   "source": [
    "model.fit_generator(myGene,steps_per_epoch=steps_per_epoch,epochs=epochs,callbacks=[model_checkpoint])"
   ]
  },
  {
   "cell_type": "markdown",
   "metadata": {},
   "source": [
    "### Train with npy file"
   ]
  },
  {
   "cell_type": "code",
   "execution_count": null,
   "metadata": {},
   "outputs": [],
   "source": [
    "#imgs_train,imgs_mask_train = geneTrainNpy(\"data/membrane/train/aug/\",\"data/membrane/train/aug/\")\n",
    "#model.fit(imgs_train, imgs_mask_train, batch_size=2, nb_epoch=10, verbose=1,validation_split=0.2, shuffle=True, callbacks=[model_checkpoint])"
   ]
  },
  {
   "cell_type": "markdown",
   "metadata": {},
   "source": [
    "### test your model and save predicted results"
   ]
  },
  {
   "cell_type": "code",
   "execution_count": 4,
   "metadata": {},
   "outputs": [
    {
     "name": "stdout",
     "output_type": "stream",
     "text": [
      "30/30 [==============================] - 1s 45ms/step\n"
     ]
    },
    {
     "name": "stderr",
     "output_type": "stream",
     "text": [
      "Lossy conversion from float32 to uint8. Range [0, 1]. Convert image to uint8 prior to saving to suppress this warning.\n",
      "/myGit/unet/data.py:126: UserWarning: test1/1_predict.png is a low contrast image\n",
      "  io.imsave(os.path.join(save_path,\"%d_predict.png\"%i),img)\n",
      "Lossy conversion from float32 to uint8. Range [0, 1]. Convert image to uint8 prior to saving to suppress this warning.\n",
      "/myGit/unet/data.py:126: UserWarning: test1/2_predict.png is a low contrast image\n",
      "  io.imsave(os.path.join(save_path,\"%d_predict.png\"%i),img)\n",
      "Lossy conversion from float32 to uint8. Range [0, 1]. Convert image to uint8 prior to saving to suppress this warning.\n",
      "/myGit/unet/data.py:126: UserWarning: test1/3_predict.png is a low contrast image\n",
      "  io.imsave(os.path.join(save_path,\"%d_predict.png\"%i),img)\n",
      "Lossy conversion from float32 to uint8. Range [0, 1]. Convert image to uint8 prior to saving to suppress this warning.\n",
      "/myGit/unet/data.py:126: UserWarning: test1/4_predict.png is a low contrast image\n",
      "  io.imsave(os.path.join(save_path,\"%d_predict.png\"%i),img)\n",
      "Lossy conversion from float32 to uint8. Range [0, 1]. Convert image to uint8 prior to saving to suppress this warning.\n",
      "/myGit/unet/data.py:126: UserWarning: test1/5_predict.png is a low contrast image\n",
      "  io.imsave(os.path.join(save_path,\"%d_predict.png\"%i),img)\n",
      "Lossy conversion from float32 to uint8. Range [0, 1]. Convert image to uint8 prior to saving to suppress this warning.\n",
      "/myGit/unet/data.py:126: UserWarning: test1/6_predict.png is a low contrast image\n",
      "  io.imsave(os.path.join(save_path,\"%d_predict.png\"%i),img)\n",
      "Lossy conversion from float32 to uint8. Range [0, 1]. Convert image to uint8 prior to saving to suppress this warning.\n",
      "/myGit/unet/data.py:126: UserWarning: test1/7_predict.png is a low contrast image\n",
      "  io.imsave(os.path.join(save_path,\"%d_predict.png\"%i),img)\n",
      "Lossy conversion from float32 to uint8. Range [0, 1]. Convert image to uint8 prior to saving to suppress this warning.\n",
      "/myGit/unet/data.py:126: UserWarning: test1/8_predict.png is a low contrast image\n",
      "  io.imsave(os.path.join(save_path,\"%d_predict.png\"%i),img)\n",
      "Lossy conversion from float32 to uint8. Range [0, 1]. Convert image to uint8 prior to saving to suppress this warning.\n",
      "/myGit/unet/data.py:126: UserWarning: test1/9_predict.png is a low contrast image\n",
      "  io.imsave(os.path.join(save_path,\"%d_predict.png\"%i),img)\n",
      "Lossy conversion from float32 to uint8. Range [0, 1]. Convert image to uint8 prior to saving to suppress this warning.\n",
      "/myGit/unet/data.py:126: UserWarning: test1/10_predict.png is a low contrast image\n",
      "  io.imsave(os.path.join(save_path,\"%d_predict.png\"%i),img)\n",
      "Lossy conversion from float32 to uint8. Range [0, 1]. Convert image to uint8 prior to saving to suppress this warning.\n",
      "/myGit/unet/data.py:126: UserWarning: test1/11_predict.png is a low contrast image\n",
      "  io.imsave(os.path.join(save_path,\"%d_predict.png\"%i),img)\n",
      "Lossy conversion from float32 to uint8. Range [0, 1]. Convert image to uint8 prior to saving to suppress this warning.\n",
      "/myGit/unet/data.py:126: UserWarning: test1/12_predict.png is a low contrast image\n",
      "  io.imsave(os.path.join(save_path,\"%d_predict.png\"%i),img)\n",
      "Lossy conversion from float32 to uint8. Range [0, 1]. Convert image to uint8 prior to saving to suppress this warning.\n",
      "/myGit/unet/data.py:126: UserWarning: test1/13_predict.png is a low contrast image\n",
      "  io.imsave(os.path.join(save_path,\"%d_predict.png\"%i),img)\n",
      "Lossy conversion from float32 to uint8. Range [0, 1]. Convert image to uint8 prior to saving to suppress this warning.\n",
      "/myGit/unet/data.py:126: UserWarning: test1/14_predict.png is a low contrast image\n",
      "  io.imsave(os.path.join(save_path,\"%d_predict.png\"%i),img)\n",
      "Lossy conversion from float32 to uint8. Range [0, 1]. Convert image to uint8 prior to saving to suppress this warning.\n",
      "/myGit/unet/data.py:126: UserWarning: test1/15_predict.png is a low contrast image\n",
      "  io.imsave(os.path.join(save_path,\"%d_predict.png\"%i),img)\n",
      "Lossy conversion from float32 to uint8. Range [0, 1]. Convert image to uint8 prior to saving to suppress this warning.\n",
      "/myGit/unet/data.py:126: UserWarning: test1/16_predict.png is a low contrast image\n",
      "  io.imsave(os.path.join(save_path,\"%d_predict.png\"%i),img)\n",
      "Lossy conversion from float32 to uint8. Range [0, 1]. Convert image to uint8 prior to saving to suppress this warning.\n",
      "/myGit/unet/data.py:126: UserWarning: test1/17_predict.png is a low contrast image\n",
      "  io.imsave(os.path.join(save_path,\"%d_predict.png\"%i),img)\n",
      "Lossy conversion from float32 to uint8. Range [0, 1]. Convert image to uint8 prior to saving to suppress this warning.\n",
      "/myGit/unet/data.py:126: UserWarning: test1/18_predict.png is a low contrast image\n",
      "  io.imsave(os.path.join(save_path,\"%d_predict.png\"%i),img)\n",
      "Lossy conversion from float32 to uint8. Range [0, 1]. Convert image to uint8 prior to saving to suppress this warning.\n",
      "/myGit/unet/data.py:126: UserWarning: test1/19_predict.png is a low contrast image\n",
      "  io.imsave(os.path.join(save_path,\"%d_predict.png\"%i),img)\n",
      "Lossy conversion from float32 to uint8. Range [0, 1]. Convert image to uint8 prior to saving to suppress this warning.\n",
      "/myGit/unet/data.py:126: UserWarning: test1/20_predict.png is a low contrast image\n",
      "  io.imsave(os.path.join(save_path,\"%d_predict.png\"%i),img)\n",
      "Lossy conversion from float32 to uint8. Range [0, 1]. Convert image to uint8 prior to saving to suppress this warning.\n",
      "/myGit/unet/data.py:126: UserWarning: test1/21_predict.png is a low contrast image\n",
      "  io.imsave(os.path.join(save_path,\"%d_predict.png\"%i),img)\n",
      "Lossy conversion from float32 to uint8. Range [0, 1]. Convert image to uint8 prior to saving to suppress this warning.\n",
      "/myGit/unet/data.py:126: UserWarning: test1/22_predict.png is a low contrast image\n",
      "  io.imsave(os.path.join(save_path,\"%d_predict.png\"%i),img)\n",
      "Lossy conversion from float32 to uint8. Range [0, 1]. Convert image to uint8 prior to saving to suppress this warning.\n",
      "/myGit/unet/data.py:126: UserWarning: test1/23_predict.png is a low contrast image\n",
      "  io.imsave(os.path.join(save_path,\"%d_predict.png\"%i),img)\n",
      "Lossy conversion from float32 to uint8. Range [0, 1]. Convert image to uint8 prior to saving to suppress this warning.\n",
      "/myGit/unet/data.py:126: UserWarning: test1/24_predict.png is a low contrast image\n",
      "  io.imsave(os.path.join(save_path,\"%d_predict.png\"%i),img)\n",
      "Lossy conversion from float32 to uint8. Range [0, 1]. Convert image to uint8 prior to saving to suppress this warning.\n",
      "/myGit/unet/data.py:126: UserWarning: test1/25_predict.png is a low contrast image\n",
      "  io.imsave(os.path.join(save_path,\"%d_predict.png\"%i),img)\n",
      "Lossy conversion from float32 to uint8. Range [0, 1]. Convert image to uint8 prior to saving to suppress this warning.\n",
      "/myGit/unet/data.py:126: UserWarning: test1/26_predict.png is a low contrast image\n",
      "  io.imsave(os.path.join(save_path,\"%d_predict.png\"%i),img)\n",
      "Lossy conversion from float32 to uint8. Range [0, 1]. Convert image to uint8 prior to saving to suppress this warning.\n",
      "/myGit/unet/data.py:126: UserWarning: test1/27_predict.png is a low contrast image\n",
      "  io.imsave(os.path.join(save_path,\"%d_predict.png\"%i),img)\n",
      "Lossy conversion from float32 to uint8. Range [0, 1]. Convert image to uint8 prior to saving to suppress this warning.\n",
      "/myGit/unet/data.py:126: UserWarning: test1/28_predict.png is a low contrast image\n",
      "  io.imsave(os.path.join(save_path,\"%d_predict.png\"%i),img)\n",
      "Lossy conversion from float32 to uint8. Range [0, 1]. Convert image to uint8 prior to saving to suppress this warning.\n",
      "/myGit/unet/data.py:126: UserWarning: test1/29_predict.png is a low contrast image\n",
      "  io.imsave(os.path.join(save_path,\"%d_predict.png\"%i),img)\n",
      "Lossy conversion from float32 to uint8. Range [0, 1]. Convert image to uint8 prior to saving to suppress this warning.\n"
     ]
    }
   ],
   "source": [
    "testGene = testGenerator(\"/dmount/Vessel/drawing_anno/Patient/train/image\")\n",
    "model = unet()\n",
    "model.load_weights(\"unet.h5\")\n",
    "results = model.predict_generator(testGene, 30, verbose=1)\n",
    "saveResult(\"test1\",results)"
   ]
  }
 ],
 "metadata": {
  "kernelspec": {
   "display_name": "Python 3",
   "language": "python",
   "name": "python3"
  },
  "language_info": {
   "codemirror_mode": {
    "name": "ipython",
    "version": 3
   },
   "file_extension": ".py",
   "mimetype": "text/x-python",
   "name": "python",
   "nbconvert_exporter": "python",
   "pygments_lexer": "ipython3",
   "version": "3.6.8"
  }
 },
 "nbformat": 4,
 "nbformat_minor": 4
}
